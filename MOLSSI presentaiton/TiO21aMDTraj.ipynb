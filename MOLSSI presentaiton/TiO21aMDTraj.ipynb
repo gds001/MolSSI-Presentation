{
 "cells": [
  {
   "cell_type": "code",
   "execution_count": 1,
   "metadata": {},
   "outputs": [],
   "source": [
    "import mdtraj as md\n",
    "import numpy as np\n",
    "import matplotlib.pyplot as plt\n",
    "import statsmodels.api as sm\n",
    "import nglview as ngl\n",
    "import math as math\n",
    "\n",
    "%matplotlib inline\n",
    "\n",
    "kB=8.31446/1000\n",
    "Temp=298.15"
   ]
  },
  {
   "cell_type": "code",
   "execution_count": 2,
   "metadata": {},
   "outputs": [
    {
     "name": "stdout",
     "output_type": "stream",
     "text": [
      "   serial name element  resSeq resName  chainID segmentID\n",
      "0       1   Ti      Ti       0                0          \n",
      "1       2    O       O       0                0          \n",
      "2       3    O       O       0                0          \n"
     ]
    }
   ],
   "source": [
    "traj = md.load('TiO21a.dcd', top='TiO21aHigher1.pdb')\n",
    "\n",
    "atoms, bonds = traj.topology.to_dataframe()\n",
    "\n",
    "print(atoms)"
   ]
  },
  {
   "cell_type": "code",
   "execution_count": 3,
   "metadata": {},
   "outputs": [
    {
     "data": {
      "image/png": "[encoded data removed]",
      "text/plain": [
       "<Figure size 432x288 with 1 Axes>"
      ]
     },
     "metadata": {},
     "output_type": "display_data"
    },
    {
     "data": {
      "image/png": "[encoded data removed]",
      "text/plain": [
       "<Figure size 432x288 with 1 Axes>"
      ]
     },
     "metadata": {},
     "output_type": "display_data"
    }
   ],
   "source": [
    "theta_indicies = [1,0,2]\n",
    "\n",
    "theta=md.compute_angles(traj,[theta_indicies])*180/math.pi\n",
    "theta[theta==0]=0.1\n",
    "thetacounts,binedges,otherstuff = plt.hist(theta, bins=120)\n",
    "\n",
    "plt.title('O-Ti-O bond angle')\n",
    "plt.xlabel(r'$\\theta$ (degree)')\n",
    "plt.ylabel('Counts')\n",
    "plt.show()\n",
    "\n",
    "thetacounts[thetacounts==0]=0.1\n",
    "\n",
    "pmf=-kB*Temp*np.log(thetacounts)\n",
    "pmf=pmf-np.min(pmf)\n",
    "bincenters=(binedges[1:]+binedges[:-1])/2\n",
    "pmf_smoothed = sm.nonparametric.lowess(pmf, bincenters, frac=0.05)\n",
    "\n",
    "plt.plot(pmf_smoothed[:,0], pmf_smoothed[:,1])\n",
    "plt.title('O-Ti-O bond angel pmf')\n",
    "plt.xlabel(r'$\\phi$ (rad)')\n",
    "plt.ylabel('Relative free energy (kJ/mol)')\n",
    "plt.show()\n",
    "\n"
   ]
  },
  {
   "cell_type": "code",
   "execution_count": 6,
   "metadata": {},
   "outputs": [
    {
     "data": {
      "application/vnd.jupyter.widget-view+json": {
       "model_id": "7bdd781629e146a9ae81d09e609777c2",
       "version_major": 2,
       "version_minor": 0
      },
      "text/plain": [
       "NGLWidget(count=200000)"
      ]
     },
     "metadata": {},
     "output_type": "display_data"
    }
   ],
   "source": [
    "visualize = ngl.show_mdtraj(traj)\n",
    "visualize"
   ]
  },
  {
   "cell_type": "code",
   "execution_count": 5,
   "metadata": {},
   "outputs": [
    {
     "name": "stdout",
     "output_type": "stream",
     "text": [
      "Imageio: 'ffmpeg-win32-v3.2.4.exe' was not found on your computer; downloading it now.\n",
      "Try 1. Download from https://github.com/imageio/imageio-binaries/raw/master/ffmpeg/ffmpeg-win32-v3.2.4.exe (34.1 MB)\n",
      "Downloading: 8192/35749888 bytes (0.0417792/35749888 bytes (1.2860160/35749888 bytes (2.41261568/35749888 bytes (3.5%1687552/35749888 bytes (4.7%2072576/35749888 bytes (5.8%2465792/35749888 bytes (6.9%2875392/35749888 bytes (8.0%3235840/35749888 bytes (9.1%3670016/35749888 bytes (10.34104192/35749888 bytes (11.54513792/35749888 bytes (12.64931584/35749888 bytes (13.85373952/35749888 bytes (15.05595136/35749888 bytes (15.76037504/35749888 bytes (16.96438912/35749888 bytes (18.06848512/35749888 bytes (19.27266304/35749888 bytes (20.37471104/35749888 bytes (20.97905280/35749888 bytes (22.18331264/35749888 bytes (23.38781824/35749888 bytes (24.69191424/35749888 bytes (25.79592832/35749888 bytes (26.810010624/35749888 bytes (28.0%10444800/35749888 bytes (29.2%10862592/35749888 bytes (30.4%11075584/35749888 bytes (31.0%11493376/35749888 bytes (32.1%11911168/35749888 bytes (33.3%12255232/35749888 bytes (34.3%12632064/35749888 bytes (35.3%13074432/35749888 bytes (36.6%13500416/35749888 bytes (37.8%13926400/35749888 bytes (39.0%14352384/35749888 bytes (40.1%14761984/35749888 bytes (41.3%15138816/35749888 bytes (42.3%15556608/35749888 bytes (43.5%15974400/35749888 bytes (44.7%16384000/35749888 bytes (45.8%16826368/35749888 bytes (47.1%17268736/35749888 bytes (48.3%17629184/35749888 bytes (49.3%18063360/35749888 bytes (50.5%18489344/35749888 bytes (51.7%18841600/35749888 bytes (52.7%19275776/35749888 bytes (53.9%19718144/35749888 bytes (55.2%20037632/35749888 bytes (56.0%20471808/35749888 bytes (57.3%20873216/35749888 bytes (58.4%21315584/35749888 bytes (59.6%21749760/35749888 bytes (60.8%22175744/35749888 bytes (62.0%22593536/35749888 bytes (63.2%23011328/35749888 bytes (64.4%23339008/35749888 bytes (65.3%23658496/35749888 bytes (66.2%24092672/35749888 bytes (67.4%24510464/35749888 bytes (68.6%24936448/35749888 bytes (69.8%25362432/35749888 bytes (70.9%25780224/35749888 bytes (72.1%26198016/35749888 bytes (73.3%26615808/35749888 bytes (74.5%27033600/35749888 bytes (75.6%27426816/35749888 bytes (76.7%27844608/35749888 bytes (77.9%28278784/35749888 bytes (79.1%28696576/35749888 bytes (80.3%29130752/35749888 bytes (81.5%29556736/35749888 bytes (82.7%29974528/35749888 bytes (83.8%30392320/35749888 bytes (85.0%30818304/35749888 bytes (86.2%31244288/35749888 bytes (87.4%31653888/35749888 bytes (88.5%32079872/35749888 bytes (89.7%32497664/35749888 bytes (90.9%32890880/35749888 bytes (92.0%33325056/35749888 bytes (93.2%33767424/35749888 bytes (94.5%34209792/35749888 bytes (95.7%34586624/35749888 bytes (96.7%35004416/35749888 bytes (97.9%35438592/35749888 bytes (99.1%35749888/35749888 bytes (100.0%)\n",
      "  Done\n",
      "File saved as C:\\Users\\Garrett\\AppData\\Local\\imageio\\ffmpeg\\ffmpeg-win32-v3.2.4.exe.\n"
     ]
    }
   ],
   "source": [
    "from nglview.contrib.movie import MovieMaker\n",
    "import moviepy.editor as mpy"
   ]
  },
  {
   "cell_type": "code",
   "execution_count": 7,
   "metadata": {},
   "outputs": [],
   "source": [
    "mov=MovieMaker(visualize,download_folder='/Users/Garrett/Desktop',\n",
    "              output='TiO2.gif')\n",
    "mov.make()"
   ]
  },
  {
   "cell_type": "code",
   "execution_count": null,
   "metadata": {},
   "outputs": [],
   "source": [
    "bondi=[0,1]\n",
    "bondin=[0,2]\n",
    "bondlength=md.compute_distances(traj,[bondi])\n",
    "\n",
    "bondcounts,binedges,otherstuff=plt.hist(bondlength,bins=120)\n",
    "plt.title('O-Ti bond length')\n",
    "plt.xlabel(r'Bond length (nm)')\n",
    "plt.ylabel('Count')\n",
    "plt.show()\n",
    "\n",
    "bondcounts[bondcounts==0]=0.1\n",
    "\n",
    "pmf=-kB*Temp*np.log(bondcounts)\n",
    "pmf=pmf-np.min(pmf)\n",
    "bincenters=(binedges[1:]+binedges[:-1])/2\n",
    "pmf_smoothed = sm.nonparametric.lowess(pmf, bincenters, frac=0.05)\n",
    "\n",
    "plt.plot(pmf_smoothed[:,0], pmf_smoothed[:,1])\n",
    "plt.title('O-Ti-O bond angel pmf')\n",
    "plt.xlabel(r'$\\phi$ (rad)')\n",
    "plt.ylabel('Relative free energy (kJ/mol)')\n",
    "plt.show()"
   ]
  },
  {
   "cell_type": "code",
   "execution_count": null,
   "metadata": {},
   "outputs": [],
   "source": []
  }
 ],
 "metadata": {
  "kernelspec": {
   "display_name": "Python 3",
   "language": "python",
   "name": "python3"
  },
  "language_info": {
   "codemirror_mode": {
    "name": "ipython",
    "version": 3
   },
   "file_extension": ".py",
   "mimetype": "text/x-python",
   "name": "python",
   "nbconvert_exporter": "python",
   "pygments_lexer": "ipython3",
   "version": "3.6.5"
  }
 },
 "nbformat": 4,
 "nbformat_minor": 2
}
